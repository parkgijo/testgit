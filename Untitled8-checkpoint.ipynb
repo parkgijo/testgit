{
 "cells": [
  {
   "cell_type": "code",
   "execution_count": 1,
   "metadata": {},
   "outputs": [],
   "source": [
    "ap ={}\n",
    "infile = open(\"pwv.txt\",\"r\")"
   ]
  },
  {
   "cell_type": "code",
   "execution_count": 2,
   "metadata": {},
   "outputs": [
    {
     "name": "stdout",
     "output_type": "stream",
     "text": [
      "{'H': 2, 'u': 5, 'm': 4, 'p': 4, 't': 10, 'y': 3, ' ': 17, 'D': 1, 'h': 5, 'a': 8, 'd': 3, 'g': 5, 'r': 3, 'e': 7, 'f': 1, 'l': 7, '.': 2, '\\n': 2, 'A': 1, 'k': 2, 'i': 3, 'n': 6, \"'\": 3, 's': 4, 'o': 3, 'C': 1}\n"
     ]
    }
   ],
   "source": [
    "for line in infile:\n",
    "    line = infile.read()\n",
    "    for ch in line:\n",
    "        if ch in ap:\n",
    "            ap[ch] += 1\n",
    "        else:\n",
    "            ap[ch] = 1\n",
    "print(ap)\n",
    "infile.close()"
   ]
  },
  {
   "cell_type": "code",
   "execution_count": null,
   "metadata": {},
   "outputs": [],
   "source": [
    "infile = open(\"pwc.txt\",\"r\")\n",
    "outfile = open(\"output.txt\",\"w\")"
   ]
  },
  {
   "cell_type": "code",
   "execution_count": null,
   "metadata": {},
   "outputs": [],
   "source": [
    "to = 0\n",
    "co = 0\n",
    "av = 0"
   ]
  },
  {
   "cell_type": "code",
   "execution_count": null,
   "metadata": {},
   "outputs": [],
   "source": [
    "for line in infile:\n",
    "    line = infile.readlines()\n",
    "    for a in line:\n",
    "        to += float(a)\n",
    "        co += 1\n",
    "    av = to/co\n",
    "print(\"합계는\"+str(to))\n",
    "print(\"평균은\"+str(av))\n",
    "outfile.write(\"합계는\"+str(to))\n",
    "outfile.write(\"평균은\"+str(av))\n",
    "infile.close()\n",
    "outfile.close()"
   ]
  },
  {
   "cell_type": "code",
   "execution_count": null,
   "metadata": {},
   "outputs": [],
   "source": [
    "class circle:\n",
    "    def __init__(self,radius):\n",
    "        self.radius = radius\n",
    "    def calcPerimeter(self):\n",
    "        self.calcPerimeter = 3.14*2*self.radius\n",
    "    def calcArea(self):\n",
    "        self.calcArea = 3.14*self.radius**2\n",
    "    def __str__(self):\n",
    "        msg = \"반지름이\"+str(self.radius)+\" 원의 면적:\"+str(self.calcPerimeter)+\" 원의 둘레:\"+str(self.calcArea)\n",
    "        return msg\n",
    "        \n",
    "aCircle = circle(100)\n",
    "aCircle.calcPerimeter()\n",
    "aCircle.calcArea()\n",
    "print(aCircle)\n",
    "        \n",
    "        \n",
    "\n",
    "    "
   ]
  },
  {
   "cell_type": "code",
   "execution_count": null,
   "metadata": {},
   "outputs": [],
   "source": [
    "from turtle import*"
   ]
  },
  {
   "cell_type": "code",
   "execution_count": null,
   "metadata": {},
   "outputs": [],
   "source": [
    "class myturtle(Turtle):\n",
    "    def drawSquare(self):\n",
    "        for i in range(4):\n",
    "            self.right(90)\n",
    "            self.forward(100)\n",
    "            \n",
    "my_turtle =  myturtle()\n",
    "my_turtle.forward(100)\n",
    "my_turtle.drawSquare()\n",
    "    "
   ]
  },
  {
   "cell_type": "code",
   "execution_count": null,
   "metadata": {},
   "outputs": [],
   "source": []
  }
 ],
 "metadata": {
  "kernelspec": {
   "display_name": "Python 3",
   "language": "python",
   "name": "python3"
  },
  "language_info": {
   "codemirror_mode": {
    "name": "ipython",
    "version": 3
   },
   "file_extension": ".py",
   "mimetype": "text/x-python",
   "name": "python",
   "nbconvert_exporter": "python",
   "pygments_lexer": "ipython3",
   "version": "3.7.6"
  }
 },
 "nbformat": 4,
 "nbformat_minor": 4
}
